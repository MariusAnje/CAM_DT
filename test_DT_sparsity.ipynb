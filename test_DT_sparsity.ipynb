{
 "cells": [
  {
   "cell_type": "code",
   "execution_count": 1,
   "metadata": {},
   "outputs": [],
   "source": [
    "import torch\n",
    "import torchvision.transforms as transforms\n",
    "import torchvision\n",
    "import sklearn\n",
    "from sklearn import tree\n",
    "from matplotlib import pyplot as plt"
   ]
  },
  {
   "cell_type": "code",
   "execution_count": 2,
   "metadata": {},
   "outputs": [],
   "source": [
    "BS = 50000\n",
    "trainset = torchvision.datasets.MNIST(root='~/Private/data', train=True,\n",
    "                                        download=False, transform=transforms.ToTensor())\n",
    "trainloader = torch.utils.data.DataLoader(trainset, batch_size=BS,\n",
    "                                        shuffle=True, num_workers=2)\n",
    "\n",
    "testset = torchvision.datasets.MNIST(root='~/Private/data', train=False,\n",
    "                                    download=False, transform=transforms.ToTensor())\n",
    "testloader = torch.utils.data.DataLoader(testset, batch_size=128,\n",
    "                                            shuffle=False, num_workers=2)"
   ]
  },
  {
   "cell_type": "code",
   "execution_count": 23,
   "metadata": {},
   "outputs": [],
   "source": [
    "clf = tree.DecisionTreeClassifier(max_depth=4)\n",
    "for images, labels in trainloader:\n",
    "    clf.fit(images.view(images.size(0),-1).numpy(), labels.numpy())"
   ]
  },
  {
   "cell_type": "code",
   "execution_count": 21,
   "metadata": {},
   "outputs": [
    {
     "name": "stdout",
     "output_type": "stream",
     "text": [
      "0.642\n"
     ]
    }
   ],
   "source": [
    "total = 0\n",
    "correct = 0\n",
    "for images, labels in testloader:\n",
    "    images, labels = images.view(images.size(0),-1).numpy(), labels.numpy()\n",
    "    predictions = clf.predict(images)\n",
    "    correction = predictions == labels\n",
    "    correct += correction.sum()\n",
    "    total += len(correction)\n",
    "print(correct/total)"
   ]
  },
  {
   "cell_type": "code",
   "execution_count": 5,
   "metadata": {},
   "outputs": [],
   "source": [
    "f = open(\"lol.txt\",\"w+\")\n",
    "a = tree.export_text(clf)\n",
    "f.write(a)\n",
    "f.close()"
   ]
  },
  {
   "cell_type": "code",
   "execution_count": 6,
   "metadata": {},
   "outputs": [],
   "source": [
    "lines = a.split(\"\\n\")\n",
    "row = [0 for _ in range(784)]\n",
    "j = 0\n",
    "for l in lines:\n",
    "    app = 10 - (l.find(\"feature\") - 1)//4\n",
    "    if app == 11:\n",
    "        continue\n",
    "    left = l.find(\"_\") + 1\n",
    "    right = l.find(\"<=\") if l.find(\"<=\") != -1 else l.find(\">\")\n",
    "    index = int(l[left:right])\n",
    "    row[index] += pow(2, app)\n",
    "    "
   ]
  },
  {
   "cell_type": "code",
   "execution_count": 7,
   "metadata": {},
   "outputs": [],
   "source": [
    "total = 0\n",
    "col = 0\n",
    "for i in row:\n",
    "    if i > 0:\n",
    "        total += i\n",
    "        col += 1"
   ]
  },
  {
   "cell_type": "code",
   "execution_count": 8,
   "metadata": {},
   "outputs": [
    {
     "name": "stdout",
     "output_type": "stream",
     "text": [
      "0.031856385379061374\n"
     ]
    }
   ],
   "source": [
    "print(total/(col*1024))"
   ]
  },
  {
   "cell_type": "code",
   "execution_count": 9,
   "metadata": {},
   "outputs": [
    {
     "name": "stdout",
     "output_type": "stream",
     "text": [
      "277\n"
     ]
    }
   ],
   "source": [
    "print(col)"
   ]
  },
  {
   "cell_type": "code",
   "execution_count": 74,
   "metadata": {},
   "outputs": [
    {
     "data": {
      "text/plain": [
       "'iris.pdf'"
      ]
     },
     "execution_count": 74,
     "metadata": {},
     "output_type": "execute_result"
    }
   ],
   "source": [
    "import graphviz \n",
    "# dot_data = dot_data = tree.export_graphviz(clf, out_file=\"dot\", \n",
    "#                     filled=True, rounded=True,  \n",
    "#                     special_characters=True) \n",
    "f = open(\"dot\",\"r\")\n",
    "new_d = f.read()\n",
    "new_d = new_d.splitlines()\n",
    "for i in range(3,len(new_d)):\n",
    "    l = new_d[i]\n",
    "    left = l.find(\"<br/>\")\n",
    "    right = l.find(\"]\")\n",
    "    if left != -1 and right != -1 and l.find(\"X\")!=-1:\n",
    "        new_d[i] = (l[:left] + l[right:]).replace(\"]\", \"\")[:-2] + \"];\\n\"\n",
    "new_d = \"\".join(new_d)\n",
    "graph = graphviz.Source(new_d) \n",
    "graph.render(\"iris\") "
   ]
  },
  {
   "cell_type": "code",
   "execution_count": 27,
   "metadata": {},
   "outputs": [],
   "source": [
    "import dtreeviz\n",
    "viz = dtreeviz.trees.dtreeviz(clf, images.view(-1,784).numpy(), labels.numpy(), list(range(784)), list(range(10)))"
   ]
  },
  {
   "cell_type": "code",
   "execution_count": 28,
   "metadata": {},
   "outputs": [],
   "source": [
    "viz.view()"
   ]
  },
  {
   "cell_type": "code",
   "execution_count": null,
   "metadata": {},
   "outputs": [],
   "source": []
  }
 ],
 "metadata": {
  "interpreter": {
   "hash": "e340a0a01ab186b377b016c01aa7d5d1230eddf285ffed81230a024c78a4da64"
  },
  "kernelspec": {
   "display_name": "Python 3.8.12 64-bit ('py38': conda)",
   "name": "python3"
  },
  "language_info": {
   "codemirror_mode": {
    "name": "ipython",
    "version": 3
   },
   "file_extension": ".py",
   "mimetype": "text/x-python",
   "name": "python",
   "nbconvert_exporter": "python",
   "pygments_lexer": "ipython3",
   "version": "3.8.12"
  },
  "orig_nbformat": 4
 },
 "nbformat": 4,
 "nbformat_minor": 2
}
