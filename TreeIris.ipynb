{
 "cells": [
  {
   "cell_type": "code",
   "execution_count": 1,
   "metadata": {},
   "outputs": [
    {
     "name": "stdout",
     "output_type": "stream",
     "text": [
      "0.2962962962962963\n",
      "[[0 0 0 1]\n",
      " [0 0 1 1]\n",
      " [0 0 1 1]\n",
      " [0 0 1 1]\n",
      " [0 0 1 1]\n",
      " [0 0 1 1]\n",
      " [0 1 1 1]\n",
      " [0 1 1 1]\n",
      " [0 0 1 1]]\n"
     ]
    }
   ],
   "source": [
    "from sklearn.datasets import load_iris\n",
    "from sklearn import tree\n",
    "from matplotlib import pyplot as plt\n",
    "import numpy as np\n",
    "import utils\n",
    "iris = load_iris()\n",
    "X, y = iris.data, iris.target\n",
    "clf = tree.DecisionTreeClassifier(max_depth=8)\n",
    "clf = clf.fit(X, y)\n",
    "# clf.score(X, y)\n",
    "sp, table = utils.find_sparsity(clf, X)\n",
    "print(sp)\n",
    "print(table)"
   ]
  },
  {
   "cell_type": "code",
   "execution_count": 26,
   "metadata": {},
   "outputs": [
    {
     "name": "stdout",
     "output_type": "stream",
     "text": [
      "0.2222222222222222\n",
      "[[0 0 1 0]\n",
      " [0 0 1 1]\n",
      " [0 0 1 1]\n",
      " [0 0 1 1]\n",
      " [1 0 1 1]\n",
      " [1 0 1 1]\n",
      " [1 0 1 1]\n",
      " [1 0 1 1]\n",
      " [0 0 1 1]]\n"
     ]
    }
   ],
   "source": [
    "def find_sparsity(DT: tree.DecisionTreeClassifier, X: np.ndarray):\n",
    "    table = map_CAM(DT, X)\n",
    "    empty = 0\n",
    "    for i in range(len(table[0])):\n",
    "        if sum(table[:,i]) == 0:\n",
    "            empty += 1\n",
    "    return 1 - ((table == 1).sum() / (table.size - empty * len(table))), table\n",
    "\n",
    "def map_CAM(DT: tree.DecisionTreeClassifier, X: np.ndarray):\n",
    "    flag = False\n",
    "    tree_text = tree.export_text(DT)\n",
    "    lines = tree_text.split(\"\\n\")\n",
    "    depth = DT.get_depth()\n",
    "    table = []\n",
    "    visited = []\n",
    "    dog = []\n",
    "    catch = []\n",
    "    for l in lines[:-1]:\n",
    "        app = depth - (l.find(\"feature\") - 1)//4\n",
    "        if app == depth + 1:\n",
    "            dog.append(-1)\n",
    "            this_line = [0 for _ in range(DT.n_features_in_)]\n",
    "            for index, this_depth in visited:\n",
    "                this_line[index] = 1\n",
    "            # print(visited)\n",
    "            if len(visited) != 0:\n",
    "                end = visited[-1][1]\n",
    "            if flag:\n",
    "                end = catch[-1][1]\n",
    "            for i in range(end, depth):\n",
    "                for j in catch[::-1]:\n",
    "                    if j[1] == i:\n",
    "                        this_line[j[0]] = 1\n",
    "            table.append(this_line)\n",
    "        else:\n",
    "            if flag:\n",
    "                flag = False\n",
    "            left = l.find(\"_\") + 1\n",
    "            right = l.find(\"<=\") if l.find(\"<=\") != -1 else l.find(\">\")\n",
    "            index = int(l[left:right])\n",
    "            if len(visited) == 0:\n",
    "                visited.append((index, app))\n",
    "            else:\n",
    "                if visited[-1] != (index,app):\n",
    "                    visited.append((index, app))\n",
    "                else:\n",
    "                    poped = visited.pop()\n",
    "                    catch.append(poped)\n",
    "                    flag = True\n",
    "    table = np.array(table)\n",
    "    return (table > 0).astype(np.int)\n",
    "sp, table = find_sparsity(clf, X)\n",
    "print(sp)\n",
    "print(table)"
   ]
  },
  {
   "cell_type": "code",
   "execution_count": 2,
   "metadata": {},
   "outputs": [
    {
     "name": "stdout",
     "output_type": "stream",
     "text": [
      "|--- feature_3 <= 0.80\n",
      "|   |--- class: 0\n",
      "|--- feature_3 >  0.80\n",
      "|   |--- feature_3 <= 1.75\n",
      "|   |   |--- feature_2 <= 4.95\n",
      "|   |   |   |--- feature_3 <= 1.65\n",
      "|   |   |   |   |--- class: 1\n",
      "|   |   |   |--- feature_3 >  1.65\n",
      "|   |   |   |   |--- class: 2\n",
      "|   |   |--- feature_2 >  4.95\n",
      "|   |   |   |--- feature_3 <= 1.55\n",
      "|   |   |   |   |--- class: 2\n",
      "|   |   |   |--- feature_3 >  1.55\n",
      "|   |   |   |   |--- feature_2 <= 5.45\n",
      "|   |   |   |   |   |--- class: 1\n",
      "|   |   |   |   |--- feature_2 >  5.45\n",
      "|   |   |   |   |   |--- class: 2\n",
      "|   |--- feature_3 >  1.75\n",
      "|   |   |--- feature_2 <= 4.85\n",
      "|   |   |   |--- feature_1 <= 3.10\n",
      "|   |   |   |   |--- class: 2\n",
      "|   |   |   |--- feature_1 >  3.10\n",
      "|   |   |   |   |--- class: 1\n",
      "|   |   |--- feature_2 >  4.85\n",
      "|   |   |   |--- class: 2\n",
      "\n"
     ]
    },
    {
     "data": {
      "image/png": "[encoded data removed]",
      "text/plain": [
       "<Figure size 432x288 with 1 Axes>"
      ]
     },
     "metadata": {
      "needs_background": "light"
     },
     "output_type": "display_data"
    }
   ],
   "source": [
    "ax = plt.subplot()\n",
    "tree.plot_tree(clf)\n",
    "plt.savefig(\"lol.svg\")\n",
    "print(tree.export_text(clf))"
   ]
  },
  {
   "cell_type": "code",
   "execution_count": null,
   "metadata": {},
   "outputs": [],
   "source": []
  }
 ],
 "metadata": {
  "interpreter": {
   "hash": "04f3ce0738d928d74413a2b10d0d4c487f39bbf2ffd0e3f43a6ab028b956cd75"
  },
  "kernelspec": {
   "display_name": "Python 3.7.4 64-bit ('base': conda)",
   "name": "python3"
  },
  "language_info": {
   "codemirror_mode": {
    "name": "ipython",
    "version": 3
   },
   "file_extension": ".py",
   "mimetype": "text/x-python",
   "name": "python",
   "nbconvert_exporter": "python",
   "pygments_lexer": "ipython3",
   "version": "3.7.4"
  },
  "orig_nbformat": 4
 },
 "nbformat": 4,
 "nbformat_minor": 2
}
